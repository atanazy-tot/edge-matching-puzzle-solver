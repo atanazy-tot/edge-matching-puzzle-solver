{
 "cells": [
  {
   "cell_type": "markdown",
   "id": "13e97577",
   "metadata": {},
   "source": [
    "# Projekt 2 -- małpia układanka -- Kacper Jabłonka "
   ]
  },
  {
   "cell_type": "markdown",
   "id": "6b84471e",
   "metadata": {},
   "source": [
    "## 1. Opis problemu"
   ]
  },
  {
   "cell_type": "markdown",
   "id": "00671352",
   "metadata": {},
   "source": [
    "\"Małpia układanka\", czyli Edge-matching puzzle, to rodzaj zagadki logicznej, w której gracze muszą ułożyć serie kafelków (lub klocków) na planszy tak, aby kolory na sąsiadujących krawędziach pasowały do siebie. Każdy kafelek ma kolor na każdym z czterech boków i celem jest umieszczenie kafelków na planszy w taki sposób, aby kolory na stykających się krawędziach były takie same.\n",
    "\n",
    "Każdy kafelek może być obrócony o 0, 90, 180 lub 270 stopni.\n",
    "\n",
    "Aby rozwiązać ten problem, modelujemy go jako problem całkowitoliczbowego programowania liniowego. Początkowo tworzymy cztery tablice: CT, CB, CL, CR. Dla każdej z nich, CT[t][a][l] przyjmuje wartość 1 jeśli t-ty kafelek po obróceniu o a stopni ma na górnej krawędzi (odpowiednio: dolnej, lewej, prawej dla CB, CL, CR) kolor l. W przeciwnym wypadku, przyjmuje wartość 0."
   ]
  },
  {
   "cell_type": "markdown",
   "id": "c5668ebf",
   "metadata": {},
   "source": [
    "## 2. Przygotowanie danych"
   ]
  },
  {
   "cell_type": "code",
   "execution_count": 2,
   "id": "24e79b96",
   "metadata": {},
   "outputs": [],
   "source": [
    "# Definiujemy klocki jako n^2-elementową listę; kolejne cyfry odpowiadają kolorom (góra, prawo, dół, lewo)\n",
    "tiles = [\n",
    "    [1, 2, 3, 5],\n",
    "    [5, 4, 6, 2],\n",
    "    [1, 5, 3, 4],\n",
    "    [2, 1, 6, 5],\n",
    "    [3, 1, 6, 2],\n",
    "    [6, 5, 4, 1],\n",
    "    [3, 4, 2, 5],\n",
    "    [6, 2, 3, 4],\n",
    "    [6, 3, 4, 5],\n",
    "    [4, 1, 2, 3],\n",
    "    [2, 5, 4, 1],\n",
    "    [3, 1, 6, 5],\n",
    "    [4, 6, 1, 2],\n",
    "    [2, 3, 5, 6],\n",
    "    [4, 1, 6, 3],\n",
    "    [6, 3, 2, 1]\n",
    "]\n",
    "\n",
    "# Zmniejszamy o 1 wartość każdego koloru, aby zbiór kolorów mógł być indeksem\n",
    "tiles = [[c - 1 for c in tile] for tile in tiles]"
   ]
  },
  {
   "cell_type": "code",
   "execution_count": 3,
   "id": "dffee14b",
   "metadata": {},
   "outputs": [],
   "source": [
    "# Generator\n",
    "def generate_color_matrix(tiles, color_count=6, rotation_count=4):\n",
    "    \"\"\"\n",
    "    Generuje macierze kolorów dla układanki, które później posłużą jako input do problemu optymalizacyjnego.\n",
    "    \"\"\"\n",
    "    tile_count = len(tiles)\n",
    "\n",
    "    C_matrices = [[[[0]*color_count for _ in range(rotation_count)] for _ in range(tile_count)] for _ in range(4)]\n",
    "    CT, CR, CB, CL = C_matrices\n",
    "    \n",
    "    for i, tile in enumerate(tiles):\n",
    "        for j, color in enumerate(tile):\n",
    "            CT[i][0][tile[0]] = CR[i][1][tile[3]] = CB[i][2][tile[2]] = CL[i][3][tile[1]] = 1\n",
    "            CR[i][0][tile[1]] = CT[i][1][tile[0]] = CL[i][2][tile[3]] = CB[i][3][tile[2]] = 1\n",
    "            CB[i][0][tile[2]] = CL[i][1][tile[1]] = CT[i][2][tile[0]] = CR[i][3][tile[3]] = 1\n",
    "            CL[i][0][tile[3]] = CB[i][1][tile[2]] = CR[i][2][tile[1]] = CT[i][3][tile[0]] = 1\n",
    "            \n",
    "    return CT, CR, CB, CL\n",
    "\n",
    "CT, CR, CB, CL = generate_color_matrix(tiles)"
   ]
  },
  {
   "cell_type": "markdown",
   "id": "46a653b5",
   "metadata": {},
   "source": [
    "Ta funkcja generuje cztery macierze kolorów, które reprezentują kolory krawędzi każdego kafelka dla każdej możliwej rotacji. Wykorzystywane są one później do określenia, które krawędzie kafelków są dopasowane.\n",
    "\n",
    "Macierze CT, CR, CB, CL to cztery trójwymiarowe macierze, które mają tyle samo elementów, ile jest kafelków w układance, i każda z nich ma tyle samo elementów, ile jest możliwych rotacji. Każdy element trójwymiarowej macierzy jest listą z tyloma zerami, ile jest możliwych kolorów.\n",
    "\n",
    "W podwójnej pętli for funkcja przechodzi przez każdy kafelek (który jest reprezentowany przez listę kolorów, jeden kolor dla każdej krawędzi) i ustawia wartość 1 w odpowiednich macierzach dla kolorów każdej krawędzi.\n",
    "\n",
    "Dla przykładu, dla kafelka `i` i koloru `0` (górnego koloru dla danego kafelka), `CT[i][0][tile[0]] = 1`. To oznacza, że po obróceniu kafelka `i` o `0` stopni, górna krawędź (CT) ma kolor `tile[0]`.\n",
    "\n",
    "W każdym z czterech bloków instrukcji w pętli, dla danego kafelka i dla każdej możliwej rotacji ustawiana jest wartość 1 w odpowiedniej pozycji macierzy, odpowiadającej danemu kolorowi krawędzi. Dzięki temu dla każdego kafelka i dla każdej możliwej rotacji znamy kolor każdej krawędzi.\n",
    "\n",
    "Tak przygotowane macierze są potem wykorzystywane przy formułowaniu problemu jako problemu programowania liniowego.\n"
   ]
  },
  {
   "cell_type": "markdown",
   "id": "9ad76050",
   "metadata": {},
   "source": [
    "## 3. Sformułowanie problemu liniowego"
   ]
  },
  {
   "cell_type": "markdown",
   "id": "c9139dd8",
   "metadata": {},
   "source": [
    "\n",
    "\n",
    "Używamy klasy `MixedIntegerLinearProblem` do stworzenia problemu całkowitoliczbowego programowania liniowego, definiując trzy zmienne binarne decyzyjne:\n",
    "\n",
    "1. $x_{t,r,c,a}$ - przyjmuje wartość 1, jeżeli t-ty kafelek jest na pozycji $(r,c)$ i obrócony o $a$ stopni. W przeciwnym wypadku jest równe 0.\n",
    "2. $h_{r,c}$ - przyjmuje wartość 1, jeżeli prawa krawędź na pozycji $(r,c)$ jest niedopasowana. W przeciwnym wypadku jest równe 0.\n",
    "3. $v_{r,c}$ - przyjmuje wartość 1, jeżeli dolna krawędź na pozycji $(r,c)$ jest niedopasowana. W przeciwnym wypadku jest równe 0.\n",
    "\n",
    "Wprowadzamy trzy niezbędne ograniczenia:\n",
    "\n",
    "1. Każdy klocek jest na jednym miejscu. To oznacza, że suma dla wszystkich możliwych pozycji i orientacji każdego klocka musi być równa 1. Możemy to zapisać następująco:\n",
    "\n",
    "   $\n",
    "   \\sum_{{r=0}}^{{n-1}} \\sum_{{c=0}}^{{n-1}} \\sum_{{a=0}}^{{3}} x_{trca} = 1 \\quad \\forall t \\in \\{0, 1, ..., T-1\\}\n",
    "   $\n",
    "\n",
    "   gdzie $x_{trca}$ to zmienna binarna wskazująca, czy klocek $t$ jest na pozycji $(r, c)$ i obrócony o $a \\times 90$ stopni, $n$ to rozmiar siatki, a $T$ to liczba klocków.\n",
    "\n",
    "2. W każdym miejscu jest jeden klocek. Oznacza to, że suma dla wszystkich możliwych klocków i orientacji na każdej pozycji musi być równa 1. Możemy to zapisać tak:\n",
    "\n",
    "   $\n",
    "   \\sum_{{t=0}}^{{T-1}} \\sum_{{a=0}}^{{3}} x_{trca} = 1 \\quad \\forall r \\in \\{0, 1, ..., n-1\\}, c \\in \\{0, 1, ..., n-1\\}\n",
    "   $\n",
    "\n",
    "3. Sprawdzenie dopasowania kolorów. Dla każdej pary klocków sąsiadujących bokami (poziomo i pionowo), kolory muszą się zgadzać. Dla uproszczenia zapisu, zaprezentujmy tylko wersję dla pary sąsiadującej poziomo:\n",
    "\n",
    "   $\n",
    "   \\sum_{{t=0}}^{{T-1}} \\sum_{{a=0}}^{{3}} CR_{tal} x_{trca} - \\sum_{{t=0}}^{{T-1}} \\sum_{{a=0}}^{{3}} CL_{tal} x_{trc(a+1)} \\leq h_{rc} \\quad \\forall r \\in \\{0, 1, ..., n-1\\}, c \\in \\{0, 1, ..., n-2\\}, l \\in \\{0, 1, ..., L-1\\}\n",
    "   $\n",
    "\n",
    "   $\n",
    "   -\\sum_{{t=0}}^{{T-1}} \\sum_{{a=0}}^{{3}} CR_{tal} x_{trca} + \\sum_{{t=0}}^{{T-1}} \\sum_{{a=0}}^{{3}} CL_{tal} x_{trc(a+1)} \\leq h_{rc} \\quad \\forall r \\in \\{0, 1, ..., n-1\\}, c \\in \\{0, 1, ..., n-2\\}, l \\in \\{0, 1, ..., L-1\\}\n",
    "   $\n",
    "\n",
    "   Tutaj $CR_{tal}$ i $CL_{tal}$ są binarnymi zmiennymi wskazującymi, czy klocek $t$ obrócony o $a \\times 90$ stopni ma kolor $l$ na swojej prawej (CR) lub lewej (CL) krawędzi. $L$ jest liczbą kolorów, a $h_{rc}$ jest zmienną binarną, która przyjmuje wartość 1, jeżeli kolory na prawej krawędzi klocka w pozycji $(r, c)$ i na lewej krawędzi klocka na pozycji $(r, c+1)$ są różne, oraz 0 w przeciwnym przypadku.\n",
    "\n",
    "   Analogicznie zapisujemy dla pary sąsiadującej pionowo, tylko używamy zmiennych $CB_{tal}$ i $CT_{tal}$ (dla dolnej i górnej krawędzi), a ograniczenie jest dla $v_{rc}$, co oznacza różnicę kolorów między dolną krawędzią klocka w pozycji $(r, c)$ i górną krawędzią klocka na pozycji $(r+1, c)$.\n",
    "\n",
    "Celem jest zminimalizowanie liczby przypadków, gdy krawędzie sąsiadujących kafelków mają różne kolory, co jest wyrażone jako minimalizacja sumy $h_{rc}$ i $v_{rc}$ dla wszystkich par sąsiadujących kafelków, tzn. funkcja celu ma postać:\n",
    "\n",
    "$\\sum_{r=0}^{n-1}\\sum_{c=0}^{n-2} h_{rc} + \\sum_{r=0}^{n-2}\\sum_{c=0}^{n-1} v_{rc}$\n"
   ]
  },
  {
   "cell_type": "code",
   "execution_count": 4,
   "id": "1c979f74",
   "metadata": {},
   "outputs": [],
   "source": [
    "# Formulacja problemu\n",
    "def solve_puzzle(tiles, CT, CR, CB, CL, color_count=6, rotation_count=4, solver='GLPK'):\n",
    "    \"\"\"\n",
    "    Rozwiązuje problem układanki, przyjmując odpowiednio zestaw klocków \n",
    "    oraz wygenerowane wcześniej macierze problemu. \n",
    "    \"\"\"\n",
    "    tile_count = len(tiles)\n",
    "    grid_size = int(sqrt(tile_count))\n",
    "\n",
    "    P = MixedIntegerLinearProgram(maximization=False, solver=solver)\n",
    "    x = P.new_variable(binary=True, name='x')\n",
    "    h = P.new_variable(binary=True, name='h')\n",
    "    v = P.new_variable(binary=True, name='v')\n",
    "\n",
    "    # Każdy klocek jest na dokładnie jednym miejscu\n",
    "    for t in range(tile_count):\n",
    "        P.add_constraint(\n",
    "            P.sum(x[(t,r,c,a)] for r in range(grid_size) for c in range(grid_size) for a in range(rotation_count)) == 1)\n",
    "\n",
    "    # W każdym miejscu jest dokładnie jeden klocek\n",
    "    for r in range(grid_size):\n",
    "        for c in range(grid_size):\n",
    "            P.add_constraint(\n",
    "                P.sum(x[(t,r,c,a)] for t in range(tile_count) for a in range(rotation_count)) == 1)\n",
    "\n",
    "    # Sprawdzanie dopasowania kolorów\n",
    "    for r in range(grid_size):\n",
    "        for c in range(grid_size - 1):\n",
    "            for l in range(color_count):\n",
    "                P.add_constraint(\n",
    "                    P.sum(CR[t][a][l]*x[(t,r,c,a)] for t in range(tile_count) for a in range(rotation_count))\n",
    "                    -P.sum(CL[t][a][l]*x[(t,r,c+1,a)] for t in range(tile_count) for a in range(rotation_count))\n",
    "                    <= h[(r, c)])\n",
    "                P.add_constraint(\n",
    "                    -P.sum(CR[t][a][l]*x[(t,r,c,a)] for t in range(tile_count) for a in range(rotation_count))\n",
    "                    +P.sum(CL[t][a][l]*x[(t,r,c+1,a)] for t in range(tile_count) for a in range(rotation_count))\n",
    "                    <= h[(r, c)])\n",
    "    \n",
    "    for r in range(grid_size - 1):\n",
    "        for c in range(grid_size):\n",
    "            for l in range(color_count):\n",
    "                P.add_constraint(\n",
    "                    P.sum(CB[t][a][l]*x[(t,r,c,a)] for t in range(tile_count) for a in range(rotation_count))\n",
    "                    -P.sum(CT[t][a][l]*x[(t,r+1,c,a)] for t in range(tile_count) for a in range(rotation_count))\n",
    "                    <= v[(r,c)])\n",
    "                P.add_constraint(\n",
    "                    -P.sum(CB[t][a][l]*x[(t,r,c,a)] for t in range(tile_count) for a in range(rotation_count))\n",
    "                    +P.sum(CT[t][a][l]*x[(t,r+1,c,a)] for t in range(tile_count) for a in range(rotation_count))\n",
    "                    <= v[(r,c)])\n",
    "                \n",
    "    # Ustalamy cel jako minimalizację niespasowanych krawędzi\n",
    "    P.set_objective(\n",
    "        P.sum(h[(r,c)] for r in range(grid_size) for c in range(grid_size - 1))\n",
    "        +P.sum(v[(r,c)] for r in range(grid_size - 1) for c in range(grid_size)))\n",
    "\n",
    "    # Rozwiązujemy problem\n",
    "    P.solve()\n",
    "\n",
    "    # Przygotowujemy wynik\n",
    "    result = {variable: value for variable, value in P.get_values(x).items() if value == 1.0}\n",
    "    \n",
    "    return P, result\n",
    "\n",
    "P, result = solve_puzzle(tiles, CT, CR, CB, CL)"
   ]
  },
  {
   "cell_type": "markdown",
   "id": "37491615",
   "metadata": {},
   "source": [
    "Przeanalizujmy działanie pętli, która sprawdza zgodność kolejnych klocków:\n",
    "\n",
    "1. W dwóch zewnętrznych pętlach iterujemy przez wszystkie klocki w siatce z wyjątkiem prawej krawędzi (dla `c`) w pierwszym bloku i dolnej krawędzi (dla `r`) w drugim bloku. Dla każdej pozycji (r, c) w siatce sprawdzamy dopasowanie kolorów.\n",
    "\n",
    "2. Wewnętrzna pętla `for l in range(color_count):` iteruje przez wszystkie kolory.\n",
    "\n",
    "3. Następnie dodajemy dwa ograniczenia dla każdej pary klocków sąsiadujących bokami (poziomo i pionowo). Pierwsze ograniczenie sprawdza, czy prawy kolor klocka (dla kolumny `c`) jest taki sam jak lewy kolor klocka na prawo od niego (dla kolumny `c+1`). Podobnie, drugie ograniczenie sprawdza, czy dolny kolor klocka (dla wiersza `r`) jest taki sam jak górny kolor klocka poniżej niego (dla wiersza `r+1`).\n",
    "\n",
    "4. Zmienne `h[(r, c)]` i `v[(r,c)]` służą do zapewnienia, że rozwiązanie jest dozwolone, jeżeli kolory się nie zgadzają. Są one równe 1, jeśli kolory są różne, i 0, jeśli są takie same. \n",
    "\n",
    "5. Dzięki temu układ ograniczeń, program rozwiązuje problem tak, aby zminimalizować liczbę niespasowanych krawędzi (jak to określono w funkcji celu), zmuszając do dopasowania jak największej liczby kolorów.\n",
    "\n",
    "Tym samym mamy już funkcję kosztu, którą minimalizujemy. "
   ]
  },
  {
   "cell_type": "markdown",
   "id": "1eaf5876",
   "metadata": {},
   "source": [
    "## 4. Rozwiązanie"
   ]
  },
  {
   "cell_type": "markdown",
   "id": "ad24cec4",
   "metadata": {},
   "source": [
    "Gdy problem zostaje pomyślnie rozwiązany, rezultat jest reprezentowany jako słownik. Klucze tego słownika, będące krotkami w formie $(t,r,c,a)$, wskazują na konkretne układy układanki: kafelek o indeksie $t$, umieszczony na współrzędnych $(r,c)$ i obrócony o $a$ stopni. Wartość przypisana do takiego klucza wynosi 1, sugerując, że dany układ jest obecny w rozwiązaniu. Wszystkie pozostałe układy, które nie występują w rozwiązaniu, nie są uwzględniane w słowniku. W efekcie, dostajemy bezpośrednie informacje na temat rozmieszczenia i orientacji każdego kafelka w ostatecznym rozwiązaniu."
   ]
  },
  {
   "cell_type": "code",
   "execution_count": 5,
   "id": "ad2bdb29",
   "metadata": {},
   "outputs": [
    {
     "data": {
      "text/plain": [
       "{(0, 0, 1, 0): 1.0,\n",
       " (1, 1, 3, 1): 1.0,\n",
       " (2, 1, 2, 1): 1.0,\n",
       " (3, 2, 0, 1): 1.0,\n",
       " (4, 2, 2, 1): 1.0,\n",
       " (5, 2, 1, 1): 1.0,\n",
       " (6, 3, 3, 0): 1.0,\n",
       " (7, 2, 3, 1): 1.0,\n",
       " (8, 3, 2, 1): 1.0,\n",
       " (9, 1, 0, 0): 1.0,\n",
       " (10, 0, 0, 2): 1.0,\n",
       " (11, 1, 1, 1): 1.0,\n",
       " (12, 0, 2, 0): 1.0,\n",
       " (13, 0, 3, 0): 1.0,\n",
       " (14, 3, 1, 1): 1.0,\n",
       " (15, 3, 0, 3): 1.0}"
      ]
     },
     "execution_count": 5,
     "metadata": {},
     "output_type": "execute_result"
    }
   ],
   "source": [
    "result"
   ]
  },
  {
   "cell_type": "code",
   "execution_count": null,
   "id": "c04d2879",
   "metadata": {},
   "outputs": [],
   "source": []
  }
 ],
 "metadata": {
  "kernelspec": {
   "display_name": "SageMath 9.6",
   "language": "sage",
   "name": "sagemath"
  },
  "language_info": {
   "codemirror_mode": {
    "name": "ipython",
    "version": 3
   },
   "file_extension": ".py",
   "mimetype": "text/x-python",
   "name": "python",
   "nbconvert_exporter": "python",
   "pygments_lexer": "ipython3",
   "version": "3.9.13"
  }
 },
 "nbformat": 4,
 "nbformat_minor": 5
}
